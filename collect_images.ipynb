{
 "cells": [
  {
   "cell_type": "code",
   "execution_count": null,
   "metadata": {},
   "outputs": [],
   "source": [
    "\"\"\"\n",
    "Importing the opencv module for computer vision and capturing images.\n",
    "Importing os module to access the local system.\n",
    "We are going to on our default webcam and then proceed to capture the\n",
    "    images of our faces which is required for the dataset.\n",
    "\"\"\"\n",
    "\n",
    "import cv2\n",
    "import os\n",
    "\n",
    "capture = cv2.VideoCapture(0)\n",
    "\n",
    "directory = \"images/folder_train\"\n",
    "path = os.listdir(directory)\n",
    "\n",
    "count = 0\n",
    "\n",
    "while True:\n",
    "    ret, frame = capture.read()\n",
    "    cv2.imshow('Frame', frame)\n",
    "\n",
    "    \"\"\"\n",
    "    Reference: http://www.asciitable.com/\n",
    "    We will refer to the ascii table for the particular waitkeys.\n",
    "    1. Click a picture when we press space button on the keyboard.\n",
    "    2. Quit the program when q is pressed\n",
    "    \"\"\"\n",
    "\n",
    "    key = cv2.waitKey(1)\n",
    "\n",
    "    if key%256 == 32:\n",
    "        img_path = directory + str(count) + \".jpeg\"\n",
    "        cv2.imwrite(img_path, frame)\n",
    "        count += 1\n",
    "\n",
    "    elif key%256 == 113: \n",
    "        break\n",
    "\n",
    "capture.release()\n",
    "cv2.destroyAllWindows()"
   ]
  }
 ],
 "metadata": {
  "kernelspec": {
   "display_name": "Python 3.10.5 64-bit",
   "language": "python",
   "name": "python3"
  },
  "language_info": {
   "name": "python",
   "version": "3.10.5"
  },
  "orig_nbformat": 4,
  "vscode": {
   "interpreter": {
    "hash": "300dbfc6b0ad0831e999f42922719e8c3270874e67c762ad6f8e521060e0a9f2"
   }
  }
 },
 "nbformat": 4,
 "nbformat_minor": 2
}
